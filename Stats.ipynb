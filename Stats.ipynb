{
 "cells": [
  {
   "cell_type": "code",
   "execution_count": 26,
   "metadata": {
    "collapsed": true
   },
   "outputs": [],
   "source": [
    "##declare utilities\n",
    "import pandas as pd\n",
    "import seaborn as sns\n",
    "import matplotlib.pyplot as plt\n",
    "from statsmodels.multivariate.manova import MANOVA\n",
    "from sklearn.discriminant_analysis import LinearDiscriminantAnalysis as lda"
   ]
  },
  {
   "cell_type": "code",
   "execution_count": 27,
   "outputs": [
    {
     "data": {
      "text/plain": "        key  seed  maxLiqRatio  askFactor  cushionFactor  wall  cushion  \\\n0  669_1067   669        0.150       0.09          0.450  0.20     0.15   \n1  213_1151   213        0.475       0.09          0.225  0.24     0.13   \n\n   mintSyncPremium withReinstateWindow withDynamicRR    avg_netflow  \\\n0                3                  No           Yes   -8722.990325   \n1                3                 Yes            No -203662.197183   \n\n    dev_netflow  \n0  2.460444e+06  \n1  2.019560e+06  ",
      "text/html": "<div>\n<style scoped>\n    .dataframe tbody tr th:only-of-type {\n        vertical-align: middle;\n    }\n\n    .dataframe tbody tr th {\n        vertical-align: top;\n    }\n\n    .dataframe thead th {\n        text-align: right;\n    }\n</style>\n<table border=\"1\" class=\"dataframe\">\n  <thead>\n    <tr style=\"text-align: right;\">\n      <th></th>\n      <th>key</th>\n      <th>seed</th>\n      <th>maxLiqRatio</th>\n      <th>askFactor</th>\n      <th>cushionFactor</th>\n      <th>wall</th>\n      <th>cushion</th>\n      <th>mintSyncPremium</th>\n      <th>withReinstateWindow</th>\n      <th>withDynamicRR</th>\n      <th>avg_netflow</th>\n      <th>dev_netflow</th>\n    </tr>\n  </thead>\n  <tbody>\n    <tr>\n      <th>0</th>\n      <td>669_1067</td>\n      <td>669</td>\n      <td>0.150</td>\n      <td>0.09</td>\n      <td>0.450</td>\n      <td>0.20</td>\n      <td>0.15</td>\n      <td>3</td>\n      <td>No</td>\n      <td>Yes</td>\n      <td>-8722.990325</td>\n      <td>2.460444e+06</td>\n    </tr>\n    <tr>\n      <th>1</th>\n      <td>213_1151</td>\n      <td>213</td>\n      <td>0.475</td>\n      <td>0.09</td>\n      <td>0.225</td>\n      <td>0.24</td>\n      <td>0.13</td>\n      <td>3</td>\n      <td>Yes</td>\n      <td>No</td>\n      <td>-203662.197183</td>\n      <td>2.019560e+06</td>\n    </tr>\n  </tbody>\n</table>\n</div>"
     },
     "execution_count": 27,
     "metadata": {},
     "output_type": "execute_result"
    }
   ],
   "source": [
    "##load the data\n",
    "filename = input('Feed me Data\\n') ##enter your file path here.\n",
    "df=pd.read_csv(filename)\n",
    "df.head(2)"
   ],
   "metadata": {
    "collapsed": false,
    "pycharm": {
     "name": "#%%\n"
    }
   }
  },
  {
   "cell_type": "code",
   "execution_count": 28,
   "outputs": [],
   "source": [
    "##fancy charts, but too much data on first load. Still figuring out this library\n",
    "##fig, axs = plt.subplots(ncols=2)\n",
    "##sns.boxplot(data=df, x=\"avg_netflow\", y=\"cushionFactor\", hue=df.withReinstateWindow.tolist(), ax=axs[0])\n",
    "##sns.boxplot(data=df, x=\"avg_netflow\", y=\"cushion\", hue=df.withDynamicRR.tolist(), ax=axs[1])\n",
    "##plt.show()"
   ],
   "metadata": {
    "collapsed": false,
    "pycharm": {
     "name": "#%%\n"
    }
   }
  },
  {
   "cell_type": "code",
   "execution_count": 29,
   "outputs": [
    {
     "name": "stdout",
     "output_type": "stream",
     "text": [
      "                       Multivariate linear model\n",
      "=======================================================================\n",
      "                                                                       \n",
      "-----------------------------------------------------------------------\n",
      "       Intercept         Value   Num DF    Den DF     F Value    Pr > F\n",
      "-----------------------------------------------------------------------\n",
      "          Wilks' lambda   0.0073 6.0000 208451.0000 4699709.2820 0.0000\n",
      "         Pillai's trace   0.9927 6.0000 208451.0000 4699709.2820 0.0000\n",
      " Hotelling-Lawley trace 135.2752 6.0000 208451.0000 4699709.2820 0.0000\n",
      "    Roy's greatest root 135.2752 6.0000 208451.0000 4699709.2820 0.0000\n",
      "-----------------------------------------------------------------------\n",
      "                                                                       \n",
      "------------------------------------------------------------------------\n",
      "        avg_netflow        Value   Num DF     Den DF    F Value   Pr > F\n",
      "------------------------------------------------------------------------\n",
      "            Wilks' lambda  0.9832  6.0000  208451.0000  592.4071  0.0000\n",
      "           Pillai's trace  0.0168  6.0000  208451.0000  592.4071  0.0000\n",
      "   Hotelling-Lawley trace  0.0171  6.0000  208451.0000  592.4071  0.0000\n",
      "      Roy's greatest root  0.0171  6.0000  208451.0000  592.4071  0.0000\n",
      "=======================================================================\n",
      "\n"
     ]
    }
   ],
   "source": [
    "##lets Manova, baby\n",
    "fit = MANOVA.from_formula('maxLiqRatio + askFactor + cushionFactor +wall + cushion + mintSyncPremium  ~ avg_netflow', data=df)\n",
    "print(fit.mv_test())\n",
    "\n",
    "##a low P value is a good sign, indicating that the combination of all variables has a significant effect on output\n",
    "##DO NOT INTERPRET THESE RESULTS,GUYS, THIS IS STILL JUST AN EXPLORATION OF FUNCTIONALITY\n"
   ],
   "metadata": {
    "collapsed": false,
    "pycharm": {
     "name": "#%%\n"
    }
   }
  },
  {
   "cell_type": "code",
   "execution_count": 29,
   "outputs": [],
   "source": [],
   "metadata": {
    "collapsed": false,
    "pycharm": {
     "name": "#%%\n"
    }
   }
  },
  {
   "cell_type": "code",
   "execution_count": 29,
   "outputs": [],
   "source": [],
   "metadata": {
    "collapsed": false,
    "pycharm": {
     "name": "#%%\n"
    }
   }
  }
 ],
 "metadata": {
  "kernelspec": {
   "display_name": "Python 3",
   "language": "python",
   "name": "python3"
  },
  "language_info": {
   "codemirror_mode": {
    "name": "ipython",
    "version": 2
   },
   "file_extension": ".py",
   "mimetype": "text/x-python",
   "name": "python",
   "nbconvert_exporter": "python",
   "pygments_lexer": "ipython2",
   "version": "2.7.6"
  }
 },
 "nbformat": 4,
 "nbformat_minor": 0
}